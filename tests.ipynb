{
 "cells": [
  {
   "cell_type": "markdown",
   "metadata": {},
   "source": [
    "# Basis function test"
   ]
  },
  {
   "cell_type": "code",
   "execution_count": 1,
   "metadata": {},
   "outputs": [
    {
     "ename": "ModuleNotFoundError",
     "evalue": "No module named 'autograd'",
     "output_type": "error",
     "traceback": [
      "\u001b[0;31m---------------------------------------------------------------------------\u001b[0m",
      "\u001b[0;31mModuleNotFoundError\u001b[0m                       Traceback (most recent call last)",
      "\u001b[0;32m<ipython-input-1-80077204484e>\u001b[0m in \u001b[0;36m<module>\u001b[0;34m\u001b[0m\n\u001b[0;32m----> 1\u001b[0;31m \u001b[0;32mimport\u001b[0m \u001b[0mautograd\u001b[0m\u001b[0;34m.\u001b[0m\u001b[0mnumpy\u001b[0m \u001b[0;32mas\u001b[0m \u001b[0mnp\u001b[0m\u001b[0;34m\u001b[0m\u001b[0;34m\u001b[0m\u001b[0m\n\u001b[0m\u001b[1;32m      2\u001b[0m \u001b[0;32mimport\u001b[0m \u001b[0mautograd\u001b[0m\u001b[0;34m.\u001b[0m\u001b[0mnumpy\u001b[0m\u001b[0;34m.\u001b[0m\u001b[0mrandom\u001b[0m \u001b[0;32mas\u001b[0m \u001b[0mnpr\u001b[0m\u001b[0;34m\u001b[0m\u001b[0;34m\u001b[0m\u001b[0m\n\u001b[1;32m      3\u001b[0m \u001b[0;32mfrom\u001b[0m \u001b[0mautograd\u001b[0m \u001b[0;32mimport\u001b[0m \u001b[0mjacobian\u001b[0m\u001b[0;34m\u001b[0m\u001b[0;34m\u001b[0m\u001b[0m\n\u001b[1;32m      4\u001b[0m \u001b[0;34m\u001b[0m\u001b[0m\n\u001b[1;32m      5\u001b[0m \u001b[0;32mfrom\u001b[0m \u001b[0mbasis\u001b[0m \u001b[0;32mimport\u001b[0m \u001b[0mBasis\u001b[0m\u001b[0;34m\u001b[0m\u001b[0;34m\u001b[0m\u001b[0m\n",
      "\u001b[0;31mModuleNotFoundError\u001b[0m: No module named 'autograd'"
     ]
    }
   ],
   "source": [
    "import autograd.numpy as np\n",
    "import autograd.numpy.random as npr\n",
    "from autograd import jacobian\n",
    "\n",
    "from basis import Basis\n",
    "from gym.spaces import Box\n",
    "\n",
    "from utils import convert_traj2ck"
   ]
  },
  {
   "cell_type": "code",
   "execution_count": 2,
   "metadata": {},
   "outputs": [
    {
     "ename": "NameError",
     "evalue": "name 'Box' is not defined",
     "output_type": "error",
     "traceback": [
      "\u001b[0;31m---------------------------------------------------------------------------\u001b[0m",
      "\u001b[0;31mNameError\u001b[0m                                 Traceback (most recent call last)",
      "\u001b[0;32m<ipython-input-2-082f7ed37cf7>\u001b[0m in \u001b[0;36m<module>\u001b[0;34m\u001b[0m\n\u001b[0;32m----> 1\u001b[0;31m \u001b[0mexplr_space\u001b[0m \u001b[0;34m=\u001b[0m \u001b[0mBox\u001b[0m\u001b[0;34m(\u001b[0m\u001b[0mnp\u001b[0m\u001b[0;34m.\u001b[0m\u001b[0marray\u001b[0m\u001b[0;34m(\u001b[0m\u001b[0;34m[\u001b[0m\u001b[0;36m0.\u001b[0m\u001b[0;34m,\u001b[0m \u001b[0;36m0.\u001b[0m\u001b[0;34m]\u001b[0m\u001b[0;34m)\u001b[0m\u001b[0;34m,\u001b[0m \u001b[0mnp\u001b[0m\u001b[0;34m.\u001b[0m\u001b[0marray\u001b[0m\u001b[0;34m(\u001b[0m\u001b[0;34m[\u001b[0m\u001b[0;36m1.0\u001b[0m\u001b[0;34m,\u001b[0m \u001b[0;36m1.0\u001b[0m\u001b[0;34m]\u001b[0m\u001b[0;34m)\u001b[0m\u001b[0;34m,\u001b[0m \u001b[0mdtype\u001b[0m\u001b[0;34m=\u001b[0m\u001b[0mnp\u001b[0m\u001b[0;34m.\u001b[0m\u001b[0mfloat32\u001b[0m\u001b[0;34m)\u001b[0m\u001b[0;34m\u001b[0m\u001b[0;34m\u001b[0m\u001b[0m\n\u001b[0m\u001b[1;32m      2\u001b[0m \u001b[0mbasis\u001b[0m \u001b[0;34m=\u001b[0m \u001b[0mBasis\u001b[0m\u001b[0;34m(\u001b[0m\u001b[0mexplr_space\u001b[0m\u001b[0;34m=\u001b[0m\u001b[0mexplr_space\u001b[0m\u001b[0;34m,\u001b[0m \u001b[0mnum_basis\u001b[0m\u001b[0;34m=\u001b[0m\u001b[0;36m5\u001b[0m\u001b[0;34m)\u001b[0m\u001b[0;34m\u001b[0m\u001b[0;34m\u001b[0m\u001b[0m\n\u001b[1;32m      3\u001b[0m \u001b[0;34m\u001b[0m\u001b[0m\n\u001b[1;32m      4\u001b[0m \u001b[0mxt\u001b[0m \u001b[0;34m=\u001b[0m \u001b[0;34m[\u001b[0m\u001b[0mexplr_space\u001b[0m\u001b[0;34m.\u001b[0m\u001b[0msample\u001b[0m\u001b[0;34m(\u001b[0m\u001b[0;34m)\u001b[0m \u001b[0;32mfor\u001b[0m \u001b[0m_\u001b[0m \u001b[0;32min\u001b[0m \u001b[0mrange\u001b[0m\u001b[0;34m(\u001b[0m\u001b[0;36m10\u001b[0m\u001b[0;34m)\u001b[0m\u001b[0;34m]\u001b[0m\u001b[0;34m\u001b[0m\u001b[0;34m\u001b[0m\u001b[0m\n",
      "\u001b[0;31mNameError\u001b[0m: name 'Box' is not defined"
     ]
    }
   ],
   "source": [
    "explr_space = Box(np.array([0., 0.]), np.array([1.0, 1.0]), dtype=np.float32)\n",
    "basis = Basis(explr_space=explr_space, num_basis=5)\n",
    "\n",
    "xt = [explr_space.sample() for _ in range(10)]"
   ]
  },
  {
   "cell_type": "code",
   "execution_count": 183,
   "metadata": {},
   "outputs": [
    {
     "data": {
      "text/plain": [
       "array([[0, 0],\n",
       "       [1, 0],\n",
       "       [2, 0],\n",
       "       [3, 0],\n",
       "       [4, 0],\n",
       "       [0, 1],\n",
       "       [1, 1],\n",
       "       [2, 1],\n",
       "       [3, 1],\n",
       "       [4, 1],\n",
       "       [0, 2],\n",
       "       [1, 2],\n",
       "       [2, 2],\n",
       "       [3, 2],\n",
       "       [4, 2],\n",
       "       [0, 3],\n",
       "       [1, 3],\n",
       "       [2, 3],\n",
       "       [3, 3],\n",
       "       [4, 3],\n",
       "       [0, 4],\n",
       "       [1, 4],\n",
       "       [2, 4],\n",
       "       [3, 4],\n",
       "       [4, 4]])"
      ]
     },
     "execution_count": 183,
     "metadata": {},
     "output_type": "execute_result"
    }
   ],
   "source": [
    "basis.k"
   ]
  },
  {
   "cell_type": "code",
   "execution_count": 184,
   "metadata": {},
   "outputs": [
    {
     "data": {
      "text/plain": [
       "array([ 1.        ,  0.2917829 , -0.82972548, -0.77598231,  0.37688875,\n",
       "        0.22786398,  0.26594725, -0.75625821, -0.70727367,  0.34351748,\n",
       "       -0.89615601, -1.04593199,  2.97425391,  2.78160485, -1.35100446,\n",
       "       -0.63626734, -0.74260771,  2.11170888,  1.97492878, -0.95920799,\n",
       "        0.6061912 ,  0.7075049 , -2.01188912, -1.88157457,  0.91386656])"
      ]
     },
     "execution_count": 184,
     "metadata": {},
     "output_type": "execute_result"
    }
   ],
   "source": [
    "basis.fk(xt[0])"
   ]
  },
  {
   "cell_type": "code",
   "execution_count": 185,
   "metadata": {},
   "outputs": [
    {
     "data": {
      "text/plain": [
       "array([[  0.        ,   0.        ],\n",
       "       [ -3.00488483,   0.        ],\n",
       "       [ -3.507097  ,  -0.        ],\n",
       "       [  5.94472085,  -0.        ],\n",
       "       [ 11.63970965,   0.        ],\n",
       "       [  0.        ,  -3.05894664],\n",
       "       [ -0.68470524,  -0.89254857],\n",
       "       [ -0.79914134,   2.53808568],\n",
       "       [  1.35458819,   2.37368897],\n",
       "       [  2.65227141,  -1.1528816 ],\n",
       "       [ -0.        ,  -2.78809591],\n",
       "       [  2.69284541,  -0.81351893],\n",
       "       [  3.14290584,   2.31335396],\n",
       "       [ -5.32739695,   2.16351356],\n",
       "       [-10.43099502,  -1.05080109],\n",
       "       [ -0.        ,   7.27091941],\n",
       "       [  1.91191057,   2.12153053],\n",
       "       [  2.23145186,  -6.03286641],\n",
       "       [ -3.7824327 ,  -5.64210601],\n",
       "       [ -7.40596901,   2.7403254 ],\n",
       "       [  0.        ,   9.99427493],\n",
       "       [ -1.82153403,   2.91615932],\n",
       "       [ -2.12597051,  -8.29250362],\n",
       "       [  3.60363606,  -7.75538216],\n",
       "       [  7.05588679,   3.76672659]])"
      ]
     },
     "execution_count": 185,
     "metadata": {},
     "output_type": "execute_result"
    }
   ],
   "source": [
    "basis.dfk(xt[0])"
   ]
  },
  {
   "cell_type": "code",
   "execution_count": 191,
   "metadata": {},
   "outputs": [],
   "source": [
    "k = basis.k[6]\n"
   ]
  },
  {
   "cell_type": "code",
   "execution_count": 195,
   "metadata": {},
   "outputs": [
    {
     "data": {
      "text/plain": [
       "39.47841760435743"
      ]
     },
     "execution_count": 195,
     "metadata": {},
     "output_type": "execute_result"
    }
   ],
   "source": [
    "np.prod(basis.dl * (2.0 * k * np.pi + np.sin(2.0 * k *np.pi)))"
   ]
  },
  {
   "cell_type": "code",
   "execution_count": 193,
   "metadata": {},
   "outputs": [
    {
     "data": {
      "text/plain": [
       "157.91367041742973"
      ]
     },
     "execution_count": 193,
     "metadata": {},
     "output_type": "execute_result"
    }
   ],
   "source": [
    "(16 * np.prod(k)*np.pi**2)"
   ]
  },
  {
   "cell_type": "code",
   "execution_count": 178,
   "metadata": {},
   "outputs": [
    {
     "data": {
      "text/plain": [
       "array([1.  , 1.  , 1.  , 1.  , 1.  , 0.25, 0.25, 0.25, 1.  , 0.25, 0.25,\n",
       "       0.25, 1.  , 0.25, 0.25, 0.25])"
      ]
     },
     "execution_count": 178,
     "metadata": {},
     "output_type": "execute_result"
    }
   ],
   "source": [
    "basis.hk"
   ]
  },
  {
   "cell_type": "markdown",
   "metadata": {},
   "source": [
    "## This is how you would compute the cks"
   ]
  },
  {
   "cell_type": "code",
   "execution_count": 6,
   "metadata": {},
   "outputs": [
    {
     "data": {
      "text/plain": [
       "array([ 1.        , -0.19621146, -0.07993507,  0.02621144, -0.12668829,\n",
       "        0.23798779, -0.16839487,  0.05275571, -0.40835119, -0.03744722,\n",
       "        0.19696911, -0.15653757,  0.03462798, -0.16466172,  0.06769202,\n",
       "        0.10483742])"
      ]
     },
     "execution_count": 6,
     "metadata": {},
     "output_type": "execute_result"
    }
   ],
   "source": [
    "convert_traj2ck(basis, xt)"
   ]
  },
  {
   "cell_type": "markdown",
   "metadata": {},
   "source": [
    "# Barrier Function Test"
   ]
  },
  {
   "cell_type": "code",
   "execution_count": 7,
   "metadata": {},
   "outputs": [],
   "source": [
    "import autograd.numpy as np\n",
    "from barrier import Barrier\n",
    "from gym.spaces import Box"
   ]
  },
  {
   "cell_type": "code",
   "execution_count": 8,
   "metadata": {},
   "outputs": [],
   "source": [
    "explr_space = Box(np.array([0., 0.]), np.array([1.0, 1.0]), dtype=np.float32)\n",
    "barrier = Barrier(explr_space)"
   ]
  },
  {
   "cell_type": "code",
   "execution_count": 9,
   "metadata": {},
   "outputs": [
    {
     "data": {
      "text/plain": [
       "11.801507472991943"
      ]
     },
     "execution_count": 9,
     "metadata": {},
     "output_type": "execute_result"
    }
   ],
   "source": [
    "barrier.cost(explr_space.sample()-1)"
   ]
  },
  {
   "cell_type": "code",
   "execution_count": 10,
   "metadata": {},
   "outputs": [
    {
     "data": {
      "text/plain": [
       "array([-4.58900124, -0.21006126])"
      ]
     },
     "execution_count": 10,
     "metadata": {},
     "output_type": "execute_result"
    }
   ],
   "source": [
    "barrier.dx(explr_space.sample()-1)"
   ]
  },
  {
   "cell_type": "markdown",
   "metadata": {},
   "source": [
    "# Target Distribution test"
   ]
  },
  {
   "cell_type": "code",
   "execution_count": 1,
   "metadata": {},
   "outputs": [],
   "source": [
    "from target_dist import TargetDist\n",
    "from utils import convert_phi2phik, convert_phik2phi\n",
    "\n",
    "# import again for independence between cells\n",
    "import autograd.numpy as np\n",
    "from basis import Basis\n",
    "from gym.spaces import Box\n",
    "\n",
    "import matplotlib.pyplot as plt"
   ]
  },
  {
   "cell_type": "code",
   "execution_count": 2,
   "metadata": {},
   "outputs": [],
   "source": [
    "t_dist = TargetDist(num_nodes=5)"
   ]
  },
  {
   "cell_type": "code",
   "execution_count": 3,
   "metadata": {},
   "outputs": [],
   "source": [
    "xy, vals = t_dist.get_grid_spec()"
   ]
  },
  {
   "cell_type": "code",
   "execution_count": 4,
   "metadata": {},
   "outputs": [
    {
     "data": {
      "text/plain": [
       "<matplotlib.contour.QuadContourSet at 0x7f71793594a8>"
      ]
     },
     "execution_count": 4,
     "metadata": {},
     "output_type": "execute_result"
    },
    {
     "data": {
      "image/png": "[encoded data removed]",
      "text/plain": [
       "<Figure size 432x288 with 1 Axes>"
      ]
     },
     "metadata": {
      "needs_background": "light"
     },
     "output_type": "display_data"
    }
   ],
   "source": [
    "plt.contourf(*xy, vals, levels=10)"
   ]
  },
  {
   "cell_type": "code",
   "execution_count": null,
   "metadata": {},
   "outputs": [],
   "source": []
  },
  {
   "cell_type": "markdown",
   "metadata": {},
   "source": [
    "## Checking to see if the phiks can be computed from the phik class template"
   ]
  },
  {
   "cell_type": "code",
   "execution_count": 5,
   "metadata": {},
   "outputs": [
    {
     "name": "stdout",
     "output_type": "stream",
     "text": [
      "[ 1.00000000e+00 -2.03839874e-01 -4.20205593e-01  2.14683213e-01\n",
      "  2.85941231e-03 -1.01807255e-01  6.58790606e-02 -9.52592805e-04\n",
      " -3.61786095e-02  2.56214253e-02 -2.96586266e-01  8.38673676e-02\n",
      "  5.94283082e-02 -2.42555501e-02  2.15734711e-02 -1.92047428e-03\n",
      " -8.22977372e-03  2.40541511e-03  4.88963290e-03 -3.49090457e-03\n",
      " -4.38984795e-01  1.97964205e-02  2.40300507e-01 -8.61924411e-02\n",
      " -1.72465997e-02  6.16737887e-02 -3.50802893e-02 -8.64628506e-05\n",
      "  1.87531740e-02 -1.32903046e-02  3.21102602e-01 -2.31053370e-02\n",
      " -8.53137396e-02 -1.37799894e-02 -1.98241392e-02  6.37523119e-03\n",
      "  7.89949378e-03 -3.87542724e-03 -4.37225763e-03  3.23095910e-03\n",
      " -1.02200792e-01  7.48326779e-02 -5.45789106e-03 -1.33343691e-02\n",
      "  7.71189390e-03 -1.33675067e-02  6.53163669e-03  5.64238307e-05\n",
      " -2.30523609e-03  1.74739979e-03 -3.40981988e-02 -7.79601113e-02\n",
      "  2.69690352e-02  4.83603450e-02  4.05405271e-03 -4.22857962e-03\n",
      " -2.58909194e-03  2.31134908e-03  5.56988310e-04 -5.45948665e-04\n",
      "  8.37165187e-02  1.05636703e-02 -4.45229906e-02 -6.17270319e-03\n",
      "  7.55653132e-03 -8.93247660e-04 -1.35305804e-03  1.37394798e-04\n",
      "  1.13866362e-04 -1.62520593e-04 -1.27676814e-02  2.81417150e-02\n",
      "  7.27170126e-03 -1.86322705e-02 -5.79420655e-03  1.89835087e-03\n",
      "  1.15389673e-03 -6.85873152e-04 -1.16160864e-04  7.96255064e-05\n",
      " -2.82124919e-02 -1.94508050e-02  1.76925617e-02  1.02514101e-02\n",
      " -1.65551845e-03  8.25277065e-04 -6.43695293e-05  3.46316471e-05\n",
      "  8.97442806e-05  2.53306380e-06  6.71345049e-03  1.14102412e-03\n",
      " -7.56557101e-03  9.98618490e-04  2.73003711e-03 -7.08781243e-04\n",
      " -1.97064008e-04  6.44013237e-05  1.55102443e-06  1.29992775e-05]\n"
     ]
    }
   ],
   "source": [
    "explr_space = Box(np.array([0., 0.]), np.array([1.0, 1.0]), dtype=np.float32)\n",
    "basis = Basis(explr_space=explr_space, num_basis=10)\n",
    "\n",
    "phik = convert_phi2phik(basis, t_dist.grid_vals, t_dist.grid)\n",
    "print(phik)"
   ]
  },
  {
   "cell_type": "code",
   "execution_count": 6,
   "metadata": {},
   "outputs": [],
   "source": [
    "phi = convert_phik2phi(basis, phik, t_dist.grid)"
   ]
  },
  {
   "cell_type": "code",
   "execution_count": 7,
   "metadata": {},
   "outputs": [
    {
     "data": {
      "text/plain": [
       "<matplotlib.contour.QuadContourSet at 0x7f71792896d8>"
      ]
     },
     "execution_count": 7,
     "metadata": {},
     "output_type": "execute_result"
    },
    {
     "data": {
      "image/png": "[encoded data removed]",
      "text/plain": [
       "<Figure size 432x288 with 1 Axes>"
      ]
     },
     "metadata": {
      "needs_background": "light"
     },
     "output_type": "display_data"
    }
   ],
   "source": [
    "plt.contourf(phi.reshape(50,50))"
   ]
  },
  {
   "cell_type": "markdown",
   "metadata": {},
   "source": [
    "# Testing the ergodic controller "
   ]
  },
  {
   "cell_type": "code",
   "execution_count": 1,
   "metadata": {},
   "outputs": [],
   "source": [
    "from double_integrator import DoubleIntegrator\n",
    "from ergodic_control import RTErgodicControl\n",
    "from target_dist import TargetDist\n",
    "from utils import convert_phi2phik, convert_ck2dist, convert_traj2ck, convert_phik2phi\n",
    "import autograd.numpy as np\n",
    "\n",
    "import matplotlib.pyplot as plt"
   ]
  },
  {
   "cell_type": "code",
   "execution_count": 18,
   "metadata": {},
   "outputs": [],
   "source": [
    "env = DoubleIntegrator()\n",
    "model = DoubleIntegrator()\n",
    "t_dist = TargetDist(num_nodes=2)\n",
    "erg_ctrl = RTErgodicControl(model, t_dist, horizon=15, num_basis=5, batch_size=-1)"
   ]
  },
  {
   "cell_type": "markdown",
   "metadata": {},
   "source": [
    "Checking to make sure that the phiks are set right"
   ]
  },
  {
   "cell_type": "code",
   "execution_count": 20,
   "metadata": {},
   "outputs": [
    {
     "data": {
      "text/plain": [
       "array([ 1.        , -0.28804247, -0.39783902,  0.18765139,  0.02114903,\n",
       "        0.22492516, -0.04239035, -0.12482156,  0.0398578 ,  0.02672229,\n",
       "       -0.48358964,  0.16478163,  0.15217864, -0.09342011,  0.0147679 ,\n",
       "       -0.19881432,  0.04289758,  0.10176719, -0.0358003 , -0.01829677,\n",
       "       -0.03475824, -0.0226718 ,  0.06539434, -0.00309362, -0.03278793])"
      ]
     },
     "execution_count": 20,
     "metadata": {},
     "output_type": "execute_result"
    }
   ],
   "source": [
    "erg_ctrl.phik = convert_phi2phik(erg_ctrl.basis, t_dist.grid_vals, t_dist.grid)\n",
    "erg_ctrl.phik"
   ]
  },
  {
   "cell_type": "code",
   "execution_count": 21,
   "metadata": {},
   "outputs": [
    {
     "name": "stdout",
     "output_type": "stream",
     "text": [
      "doneee\n"
     ]
    }
   ],
   "source": [
    "log = {'trajectory' : []}\n",
    "state = env.reset()\n",
    "for t in range(200):\n",
    "    ctrl = erg_ctrl(state)\n",
    "    state = env.step(ctrl)\n",
    "    log['trajectory'].append(state)\n",
    "print('doneee')"
   ]
  },
  {
   "cell_type": "code",
   "execution_count": 22,
   "metadata": {},
   "outputs": [
    {
     "data": {
      "text/plain": [
       "<matplotlib.collections.PathCollection at 0x7fb0b3c82cf8>"
      ]
     },
     "execution_count": 22,
     "metadata": {},
     "output_type": "execute_result"
    },
    {
     "data": {
      "image/png": "[encoded data removed]",
      "text/plain": [
       "<Figure size 432x288 with 1 Axes>"
      ]
     },
     "metadata": {
      "needs_background": "light"
     },
     "output_type": "display_data"
    }
   ],
   "source": [
    "xy, vals = t_dist.get_grid_spec()\n",
    "plt.contourf(*xy, vals, levels=10)\n",
    "xt = np.stack(log['trajectory'])\n",
    "\n",
    "tf = 200\n",
    "plt.scatter(xt[:tf,0], xt[:tf,1])"
   ]
  },
  {
   "cell_type": "markdown",
   "metadata": {},
   "source": [
    "Trajectroy statistics are reconstructed"
   ]
  },
  {
   "cell_type": "code",
   "execution_count": 23,
   "metadata": {},
   "outputs": [
    {
     "name": "stdout",
     "output_type": "stream",
     "text": [
      "--Assuming square grid\n"
     ]
    }
   ],
   "source": [
    "# path = [np.random.normal(0.2, 0.1,size=(2,)) for _ in range(50)] + [np.random.normal(0.7, 0.1,size=(2,))  for _ in range(50)]\n",
    "path = np.stack(log['trajectory'])[:tf,model.explr_idx]\n",
    "ck = convert_traj2ck(erg_ctrl.basis, path)\n",
    "val = convert_ck2dist(erg_ctrl.basis, ck)"
   ]
  },
  {
   "cell_type": "code",
   "execution_count": 24,
   "metadata": {},
   "outputs": [
    {
     "data": {
      "text/plain": [
       "<matplotlib.contour.QuadContourSet at 0x7fb0b3b64e80>"
      ]
     },
     "execution_count": 24,
     "metadata": {},
     "output_type": "execute_result"
    },
    {
     "data": {
      "image/png": "[encoded data removed]",
      "text/plain": [
       "<Figure size 432x288 with 1 Axes>"
      ]
     },
     "metadata": {
      "needs_background": "light"
     },
     "output_type": "display_data"
    }
   ],
   "source": [
    "plt.contourf(*xy, val.reshape(50,50), levels=10)"
   ]
  },
  {
   "cell_type": "markdown",
   "metadata": {},
   "source": [
    "Testing the $\\phi_k$ reconstruction"
   ]
  },
  {
   "cell_type": "code",
   "execution_count": 25,
   "metadata": {},
   "outputs": [],
   "source": [
    "phi = convert_phik2phi(erg_ctrl.basis, erg_ctrl.phik, t_dist.grid)"
   ]
  },
  {
   "cell_type": "code",
   "execution_count": 26,
   "metadata": {},
   "outputs": [
    {
     "data": {
      "text/plain": [
       "<matplotlib.contour.QuadContourSet at 0x7fb0b3bd5048>"
      ]
     },
     "execution_count": 26,
     "metadata": {},
     "output_type": "execute_result"
    },
    {
     "data": {
      "image/png": "[encoded data removed]",
      "text/plain": [
       "<Figure size 432x288 with 1 Axes>"
      ]
     },
     "metadata": {
      "needs_background": "light"
     },
     "output_type": "display_data"
    }
   ],
   "source": [
    "plt.contourf(*xy, phi.reshape(50,50), levels=10)"
   ]
  },
  {
   "cell_type": "markdown",
   "metadata": {},
   "source": [
    "### In case you want to profile"
   ]
  },
  {
   "cell_type": "code",
   "execution_count": 27,
   "metadata": {},
   "outputs": [
    {
     "name": "stdout",
     "output_type": "stream",
     "text": [
      "6.82 ms ± 1.64 ms per loop (mean ± std. dev. of 7 runs, 100 loops each)\n"
     ]
    }
   ],
   "source": [
    "%timeit erg_ctrl(state)"
   ]
  },
  {
   "cell_type": "code",
   "execution_count": null,
   "metadata": {},
   "outputs": [],
   "source": []
  }
 ],
 "metadata": {
  "kernelspec": {
   "display_name": "Python 3",
   "language": "python",
   "name": "python3"
  },
  "language_info": {
   "codemirror_mode": {
    "name": "ipython",
    "version": 3
   },
   "file_extension": ".py",
   "mimetype": "text/x-python",
   "name": "python",
   "nbconvert_exporter": "python",
   "pygments_lexer": "ipython3",
   "version": "3.8.2"
  }
 },
 "nbformat": 4,
 "nbformat_minor": 4
}
